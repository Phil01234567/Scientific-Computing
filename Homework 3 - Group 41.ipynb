{
 "cells": [
  {
   "cell_type": "markdown",
   "metadata": {},
   "source": [
    "Group XX (Name 1, Name 2, Name 3, Name 4)"
   ]
  },
  {
   "cell_type": "markdown",
   "metadata": {},
   "source": [
    "# Homework 3\n",
    "\n",
    "This homework is designed to help you get more comfortable with linear transformations through visualization. Furthermore, we will consider the Cholesky decomposition for symmetric positive definite linear systems.\n",
    "Let's get intialization out of the way, and then proceed."
   ]
  },
  {
   "cell_type": "code",
   "execution_count": null,
   "metadata": {},
   "outputs": [],
   "source": [
    "import numpy as np\n",
    "import scipy.linalg\n",
    "\n",
    "import matplotlib.pyplot as plt         # plotting\n",
    "import matplotlib.collections as clt    # plotting\n",
    "\n",
    "%matplotlib inline\n",
    "\n",
    "from IPython.core.display import HTML\n",
    "HTML(\"\"\"<style>.output_png { display: table-cell; text-align: center; vertical-align: middle; }</style>\"\"\");"
   ]
  },
  {
   "cell_type": "markdown",
   "metadata": {},
   "source": [
    "- - -"
   ]
  },
  {
   "cell_type": "markdown",
   "metadata": {},
   "source": [
    "<div class=\"alert alert-info\">\n",
    "\n",
    "### Visualizing Transforms\n",
    "</div>"
   ]
  },
  {
   "cell_type": "markdown",
   "metadata": {},
   "source": [
    "A simple way to visualize linear transforms over two-dimensional or three-dimensional spaces is to consider their effect on a known geometry, e.g. a square, cube, circle, or sphere. Furthermore, depicting the images of basis vectors can also be helpful.\n",
    "\n",
    "<div class=\"alert alert-success\">\n",
    "\n",
    "**Task:** Modify the function `visualize_transform_2d` below such that it draws the transformed rectangle and basis vectors corresponding to the matrix argument `M`.\n",
    "</div>"
   ]
  },
  {
   "cell_type": "code",
   "execution_count": null,
   "metadata": {},
   "outputs": [],
   "source": [
    "def visualize_transform_2d( ax, M ):\n",
    "    \"\"\"Visualize the effect of the linear transform described by M on the plot axes ax.\"\"\"\n",
    "    \n",
    "    lines = np.array([[-1, 1, 1, -1, -1], [-1, -1, 1, 1, -1]])\n",
    "    \n",
    "    basis = np.array([[1, 0], [0, 1]])\n",
    "    \n",
    "    # TODO: transform lines and basis using M\n",
    "    \n",
    "    \n",
    "    \n",
    "    \n",
    "    ax.plot( lines[0,:], lines[1,:], '-', color=\"gray\" )\n",
    "    ax.arrow( 0, 0, basis[0][0], basis[1][0], color='red', width=.04, length_includes_head=True )\n",
    "    ax.arrow( 0, 0, basis[0][1], basis[1][1], color='blue', width=.04, length_includes_head=True )\n",
    "\n",
    "    ax.set_xlim( -5, 5 )\n",
    "    ax.set_ylim( -5, 5 )\n",
    "    ax.grid()\n",
    "    \n",
    "fig, (ax0, ax1) = plt.subplots(1, 2, figsize=(8,4))\n",
    "\n",
    "# visualize untransformed geometry\n",
    "I = np.identity(2)   \n",
    "visualize_transform_2d( ax0, I )\n",
    "\n",
    "# visualize transformed geometry\n",
    "M = np.array([[1, 0], [0, -1]])\n",
    "visualize_transform_2d( ax1, M )"
   ]
  },
  {
   "cell_type": "markdown",
   "metadata": {},
   "source": [
    "<div class=\"alert alert-success\">\n",
    "    \n",
    "**Task**: Visualize the following types of transforms using the above method:\n",
    "1. A reflection on the $x$-axis (mirroring with respect to $y$ axis).\n",
    "2. A *shear transform*, which is given by matrices of the form $S_a := \\begin{pmatrix} 1 & a \\\\ 0 & 1 \\end{pmatrix}$ for $a = 2$.\n",
    "3. A clockwise rotation around the origin with angle $\\alpha = 45^\\circ$.\n",
    "</div>"
   ]
  },
  {
   "cell_type": "code",
   "execution_count": null,
   "metadata": {},
   "outputs": [],
   "source": [
    "fig, (ax0, ax1) = plt.subplots(1, 2, figsize=(8,4))\n",
    "\n",
    "I = np.identity(2)   \n",
    "visualize_transform_2d( ax0, I )\n",
    "\n",
    "# TODO : set the matrix M for reflection\n",
    "\n",
    "visualize_transform_2d( ax1, M )"
   ]
  },
  {
   "cell_type": "code",
   "execution_count": null,
   "metadata": {},
   "outputs": [],
   "source": [
    "fig, (ax0, ax1) = plt.subplots(1, 2, figsize=(8,4))\n",
    "\n",
    "I = np.identity(2)   \n",
    "visualize_transform_2d( ax0, I )\n",
    "\n",
    "# TODO set the matric M shear with a = 2\n",
    "\n",
    "visualize_transform_2d( ax1, M )"
   ]
  },
  {
   "cell_type": "code",
   "execution_count": null,
   "metadata": {},
   "outputs": [],
   "source": [
    "fig, (ax0, ax1) = plt.subplots(1, 2, figsize=(8,4))\n",
    "\n",
    "I = np.identity(2)   \n",
    "visualize_transform_2d( ax0, I )\n",
    "\n",
    "# TODO: set the matrix M for rotation\n",
    "\n",
    "visualize_transform_2d( ax1, M )"
   ]
  },
  {
   "cell_type": "markdown",
   "metadata": {},
   "source": [
    "<div class=\"alert alert-success\">\n",
    "\n",
    "**Task**: Use `visualize_transform_2d` to illustrate that matrix multiplication is -- in general -- not commutative, i.e. \n",
    "\n",
    "$$A\\cdot B \\neq B\\cdot A.$$ \n",
    "for two $2\\times 2$-matrices $A$, $B$. To show this, find two matrices $A$ and $B$ that do not commute, and visualize the respective transforms. You can choose $A$ and $B$ from the transforms in the previous task.\n",
    "<div>"
   ]
  },
  {
   "cell_type": "code",
   "execution_count": null,
   "metadata": {},
   "outputs": [],
   "source": [
    "fig, (ax0, ax1) = plt.subplots(1, 2, figsize=(8,4))\n",
    "\n",
    "#TODO: show that A*B is not equal to B*A by using \"visualize_transform_2d\"\n",
    "\n",
    "\n"
   ]
  },
  {
   "cell_type": "markdown",
   "metadata": {},
   "source": [
    "<div class=\"alert alert-info\">\n",
    "\n",
    "### Cholesky Decomposition\n",
    "</div>"
   ]
  },
  {
   "cell_type": "markdown",
   "metadata": {},
   "source": [
    "As discussed in the course, a linear system with a symmetric positive definite system matrix $A\\in\\mathbb{R}^{n\\times n}$ can be solved using the Cholesky decomposition, which we will try out in the following.\n",
    "\n",
    "First, let's define a function to give us a random $n\\times n$ system matrix $A$ and RHS $b$."
   ]
  },
  {
   "cell_type": "code",
   "execution_count": null,
   "metadata": {},
   "outputs": [],
   "source": [
    "def random_spd_linear_system( n ):\n",
    "\n",
    "    # generate a random RHS\n",
    "    b = 2.0 * np.random.rand(n, 1) - 1.0\n",
    "\n",
    "    # generate a random matrix and RHS\n",
    "    M = 2.0 * np.random.rand(n, n) - 1.0\n",
    "    A = np.matmul(M,np.transpose(M))\n",
    "    return A, b\n",
    "    \n",
    "A, b = random_spd_linear_system( 50 )"
   ]
  },
  {
   "cell_type": "markdown",
   "metadata": {},
   "source": [
    "To solve the linear system $A x = b$, we can first perform *Cholesky decomposition* $A= L L^T$, where $L$ is lower triangular, giving two triangular systems\n",
    "\n",
    "$$ L y = b \\qquad\\text{and}\\qquad L^T x = y,$$ \n",
    "\n",
    "whose solution $x$ is the solution of $Ax = b$.\n",
    "\n",
    "<div class=\"alert alert-success\">\n",
    "    \n",
    "**Task:** Complete the function `solve_linear_sytem_cholesky` below to return the solution of $Ax = b$.\n",
    "\n",
    "Steps:\n",
    "1. Compute Cholesky decomposition of $A = L L^T$\n",
    "2. Solve $Ly = b$ using forward substitution.\n",
    "3. Solve $L^Tx = y$ using backward substitution.\n",
    "4. Return $x$ as the solution.\n",
    "\n",
    "Hint: You may use `fwd_subs` and `bwd_subs` from the second Homework. You can check the correctness of your implementation by evaluating the residual vector $r = b-Ax$. \n",
    "</div>"
   ]
  },
  {
   "cell_type": "code",
   "execution_count": null,
   "metadata": {},
   "outputs": [],
   "source": [
    "def cholesky_decomp(M): \n",
    "    \n",
    "    A = np.copy(M)\n",
    "    n = A.shape[0]\n",
    "    L = np.zeros_like(A)\n",
    "    k=0\n",
    "    \n",
    "    for k in range(n):\n",
    "        \n",
    "        #Step 1 in Algorithm\n",
    "        \n",
    "        L[k, k] = np.sqrt(A[k, k])\n",
    "        \n",
    "        L[k+1:,k] = A[k, k + 1:] / L[k, k]\n",
    "        \n",
    "        #Step 2 in Algorithm\n",
    "        \n",
    "        A[k:,k:] = A[k:,k:] - np.outer(L[k:,k], L[k:,k])\n",
    "        \n",
    "    return L"
   ]
  },
  {
   "cell_type": "code",
   "execution_count": null,
   "metadata": {},
   "outputs": [],
   "source": [
    "def fwd_subs( a, b ):\n",
    "\n",
    "    n = len(b)\n",
    "    x = np.zeros(n)\n",
    "\n",
    "    x[0] = b[0] / a[0, 0]\n",
    "    \n",
    "    for i in range(1, n):\n",
    "        Sum = b[i]\n",
    "\n",
    "        for j in range(i):\n",
    "            Sum = Sum - a[i,j] * x[j]\n",
    "            \n",
    "        x[i] = Sum / a[i,i]      \n",
    "    \n",
    "    return x"
   ]
  },
  {
   "cell_type": "code",
   "execution_count": null,
   "metadata": {},
   "outputs": [],
   "source": [
    "def bwd_subs( a, b ):\n",
    "        \n",
    "    n = len(b)\n",
    "    x = np.zeros(n)\n",
    "    x[n-1] = b[n-1]/a[n-1, n-1]\n",
    "    for i in range(n-1,-1,-1):\n",
    "        Sum = b[i]\n",
    "        for j in range(i+1,n):\n",
    "            Sum = Sum - a[i,j] * x[j]\n",
    "        x[i] = Sum / a[i,i]\n",
    "    \n",
    "    return x"
   ]
  },
  {
   "cell_type": "code",
   "execution_count": null,
   "metadata": {},
   "outputs": [],
   "source": [
    "def solve_linear_system_cholesky( A, b ):\n",
    "    \"\"\"Solve Ax = b using Cholesky method.\"\"\"\n",
    "    \n",
    "    L = cholesky_decomp(A)\n",
    "    \n",
    "    LT = np.transpose(L)\n",
    "    \n",
    "    y = fwd_subs(L, b)\n",
    "    \n",
    "    x = bwd_subs(LT, y)\n",
    "    \n",
    "    return x\n",
    "    \n",
    "x = solve_linear_system_cholesky( A, b )\n",
    "residual = b-np.matmul(A,x)\n",
    "print(residual)"
   ]
  },
  {
   "cell_type": "code",
   "execution_count": null,
   "metadata": {},
   "outputs": [],
   "source": []
  }
 ],
 "metadata": {
  "kernelspec": {
   "display_name": "Python 3 (ipykernel)",
   "language": "python",
   "name": "python3"
  },
  "language_info": {
   "codemirror_mode": {
    "name": "ipython",
    "version": 3
   },
   "file_extension": ".py",
   "mimetype": "text/x-python",
   "name": "python",
   "nbconvert_exporter": "python",
   "pygments_lexer": "ipython3",
   "version": "3.9.7"
  }
 },
 "nbformat": 4,
 "nbformat_minor": 2
}
