{
 "cells": [
  {
   "cell_type": "code",
   "execution_count": 2,
   "id": "cd4bfb5f",
   "metadata": {},
   "outputs": [],
   "source": [
    "import numpy as np                # basic arrays, vectors, matrices\n",
    "import scipy as sp                # matrix linear algebra \n",
    "\n",
    "import matplotlib                 # plotting\n",
    "import matplotlib.pyplot as plt   # plotting\n",
    "\n",
    "from sklearn import preprocessing\n",
    "\n",
    "%matplotlib inline\n",
    "\n",
    "from IPython.core.display import HTML\n",
    "HTML(\"\"\"<style>.output_png { display: table-cell; text-align: center; vertical-align: middle; }</style>\"\"\");"
   ]
  },
  {
   "cell_type": "code",
   "execution_count": 29,
   "id": "2552a7f8",
   "metadata": {},
   "outputs": [
    {
     "name": "stdout",
     "output_type": "stream",
     "text": [
      "[[ 9  0  3]\n",
      " [ 4  6 12]\n",
      " [15  9  3]]\n",
      "[2 4 6]\n",
      "224.0\n",
      "[ 36 104  84]\n",
      "[2 4 6]\n",
      "17.714285714285715\n",
      "[0. 0. 0. 0. 0. 0. 0. 0. 0.]\n"
     ]
    }
   ],
   "source": [
    "A = np.array([[9, 0, 3], [4, 6, 12], [15, 9, 3]])\n",
    "n = len(A)\n",
    "b = np.random.rand(n)\n",
    "\n",
    "c = np.array([2, 4, 6])\n",
    "\n",
    "print(A)\n",
    "print(c)\n",
    "\n",
    "Mul = np.matmul(A, c)\n",
    "\n",
    "norm = sum(np.sqrt(Mul**2))\n",
    "print(norm)\n",
    "\n",
    "print(Mul)\n",
    "\n",
    "mu = (c.T@Mul)/(c.T@c)\n",
    "d = c.T\n",
    "print(d)\n",
    "print(mu)\n",
    "\n",
    "for i in range(3, 10):\n",
    "        \n",
    "    mu = np.zeros(i)\n",
    "print(mu)"
   ]
  },
  {
   "cell_type": "code",
   "execution_count": 30,
   "id": "4fb30d04",
   "metadata": {},
   "outputs": [],
   "source": [
    "def power_iteration(A, maxiter = 50):\n",
    "    \"\"\"perform power iteration on A and return the sequence of Rayleigh coefficients\"\"\"\n",
    "    # TODO \n",
    "    n = len(A)\n",
    "    b = np.random.rand(n)\n",
    "\n",
    "    for i in range(maxiter):\n",
    "        \n",
    "        #Mul = np.zeros(i)\n",
    "        #mu = np.zeros(i)\n",
    "        \n",
    "        Mul = np.matmul(A, b)\n",
    "        b = Mul/sum(np.sqrt(Mul**2))\n",
    "        \n",
    "        mu = (b.T@Mul)/(b.T@b)\n",
    "        \n",
    "        \n",
    "        \n",
    "    return mu,b"
   ]
  },
  {
   "cell_type": "code",
   "execution_count": 31,
   "id": "6a1a1a7c",
   "metadata": {},
   "outputs": [],
   "source": [
    "A = np.array([[9, 0, 3], [4, 6, 12], [15, 9, 3]])\n",
    "\n",
    "mu, b = power_iteration(A)"
   ]
  },
  {
   "cell_type": "code",
   "execution_count": 33,
   "id": "0b7ce1e8",
   "metadata": {},
   "outputs": [
    {
     "data": {
      "text/plain": [
       "array([0.13636364, 0.45454545, 0.40909091])"
      ]
     },
     "execution_count": 33,
     "metadata": {},
     "output_type": "execute_result"
    }
   ],
   "source": [
    "b"
   ]
  }
 ],
 "metadata": {
  "kernelspec": {
   "display_name": "Python 3 (ipykernel)",
   "language": "python",
   "name": "python3"
  },
  "language_info": {
   "codemirror_mode": {
    "name": "ipython",
    "version": 3
   },
   "file_extension": ".py",
   "mimetype": "text/x-python",
   "name": "python",
   "nbconvert_exporter": "python",
   "pygments_lexer": "ipython3",
   "version": "3.9.7"
  }
 },
 "nbformat": 4,
 "nbformat_minor": 5
}
