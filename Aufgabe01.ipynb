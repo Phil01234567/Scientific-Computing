{
 "cells": [
  {
   "cell_type": "markdown",
   "metadata": {},
   "source": [
    "Group: 41 (Boris, Niklas, Philipp)"
   ]
  },
  {
   "cell_type": "markdown",
   "metadata": {},
   "source": [
    "# Homework 1: Getting Started with Jupyter & Floating-Point Numbers\n",
    "\n",
    "Floating-point numbers are used on many computer architectures to approximate real numbers. However, in practice, they can behave very differently. The purpose of this homework is to experiment with floating-point numbers to understand them better. \n",
    "\n",
    "A secondary goal is to become familiar with Jupyter Notebooks. A general introduction to Jupyter Notebooks can be found in https://jupyter.org/. Make sure you are familiar with basic Python syntax and data types.\n",
    "\n",
    "Note that tasks that you need to complete are clearly marked as **Task**."
   ]
  },
  {
   "cell_type": "markdown",
   "metadata": {},
   "source": []
  },
  {
   "cell_type": "markdown",
   "metadata": {},
   "source": [
    "## 1.1 Simple but hard to remember"
   ]
  },
  {
   "cell_type": "markdown",
   "metadata": {},
   "source": [
    "### Task\n",
    "Fill out the group number of the group members in the first cell above."
   ]
  },
  {
   "cell_type": "markdown",
   "metadata": {},
   "source": [
    "## 1.2 Elementary Operations\n",
    "\n",
    "In Python, the default type for floating point numbers (i.e., of the `float` data type) is the double-precision. Computations on these can be simply translated using the default math operators `+`,`-`,`*`,`/`. The `**` operator allows exponentiation. \n",
    "\n",
    "Example:"
   ]
  },
  {
   "cell_type": "code",
   "execution_count": null,
   "metadata": {},
   "outputs": [],
   "source": [
    "x = 25\n",
    "a = (3.5*x**2 - 32) * 4\n",
    "\n",
    "a"
   ]
  },
  {
   "cell_type": "markdown",
   "metadata": {},
   "source": [
    "By default, a notebook cell outputs the last result if unassigned, as above. Explicit printing, e.g. for intermediate results, is also possible."
   ]
  },
  {
   "cell_type": "code",
   "execution_count": null,
   "metadata": {},
   "outputs": [],
   "source": [
    "b = a / 8622.0\n",
    "\n",
    "print( x, a, b )"
   ]
  },
  {
   "cell_type": "markdown",
   "metadata": {},
   "source": [
    "Notes:\n",
    "- As is apparent above, variables defined in a cell live beyond the execution of the cell and can be used in later cells.\n",
    "- A number should be explicitly marked as float by either writing e.g. `float(3)` or `3.0`. Otherwise, numbers may be (mis-)interpreted as integers (`int` data type), and results may differ from expectations.\n",
    "\n",
    "It is possible to use the text (Markdown) cells to typeset mathematical equations in LaTeX format. For example, the general solution of the quadratic equation $ax^2 + bx + c = 0$ is given by\n",
    "\n",
    "$$x_{1,2} = \\frac{-b \\pm \\sqrt{b^2 - 4ac}}{2a}.$$\n",
    "\n",
    "This allows typesetting even complex formulas such as the Maxwell equations:\n",
    "\n",
    "$$\n",
    "\\begin{aligned}\n",
    "\\frac{\\partial\\mathcal{D}}{\\partial t} \\quad & = \\quad \\nabla\\times\\mathcal{H},   & \\\\[5pt]\n",
    "\\frac{\\partial\\mathcal{B}}{\\partial t} \\quad & = \\quad -\\nabla\\times\\mathcal{E},  & \\\\[5pt]\n",
    "\\nabla\\cdot\\mathcal{B}                 \\quad & = \\quad 0,                         & \\\\[5pt]\n",
    "\\nabla\\cdot\\mathcal{D}                 \\quad & = \\quad 0.                         & \n",
    "\\end{aligned}\n",
    "$$\n",
    "\n",
    "See the [Markdown formatting syntax](https://jupyter-notebook.readthedocs.io/en/stable/examples/Notebook/Working%20With%20Markdown%20Cells.html) for more examples of what is possible."
   ]
  },
  {
   "cell_type": "markdown",
   "metadata": {},
   "source": [
    "### Task\n",
    "Translate the formula for the solutions of the quadratic equation above into a Python function. Your function should take the coefficients $a$, $b$, $c$ as inputs, and return a list of up to two real solutions. Complete the skeleton function `quadratic_roots` given below. Validate your implementation by running the cell below after your implementation is complete. \n",
    "\n",
    "Notes: \n",
    "- Make sure to run the cell above after you have modified it to (re)define the function!\n",
    "- A quadratic equation can have two distinct real solutions (if $b^2> 4ac$), a single solution (if $b^2 = 4ac$), or no real solution (if $b^2 < 4ac$). Return a list containing both solutions, a list containing the single solution, or an empty list, respectively.\n",
    "- To compute the square root, you need the `sqrt` function from Python's `math` module; hence, this must be imported first, as already done below."
   ]
  },
  {
   "cell_type": "code",
   "execution_count": null,
   "metadata": {},
   "outputs": [],
   "source": [
    "import math # <- needed for math.sqrt\n",
    "\n",
    "def quadratic_solutions(a, b, c):\n",
    "    \n",
    "    # TODO: implement correct formula\n",
    "\n",
    "    if b**2 > 4*a*c:\n",
    "        \n",
    "        x_1 = (-b + math.sqrt(b**2 > 4*a*c))/(2*a)\n",
    "        x_2 = (-b - math.sqrt(b**2 > 4*a*c))/(2*a)\n",
    "\n",
    "        return[x_1, x_2]\n",
    "    \n",
    "    elif b**2 == 4*a*c: \n",
    "\n",
    "        x_1_2 = -b / (2 * a)\n",
    "        \n",
    "        return[x_1_2]\n",
    "    \n",
    "    else:\n",
    "\n",
    "        return[]\n",
    "    "
   ]
  },
  {
   "cell_type": "code",
   "execution_count": null,
   "metadata": {},
   "outputs": [],
   "source": [
    "print( quadratic_solutions( 1, 0, 1 ) , \"should be\", [] )\n",
    "print( quadratic_solutions( 2, -8, 8 ) , \"should be\", [2.0] )\n",
    "print( quadratic_solutions( 1, -3, 2 ) , \"should be\", [1.0,2.0], \"or\", [2.0,1.0])"
   ]
  },
  {
   "cell_type": "markdown",
   "metadata": {},
   "source": [
    "- - - "
   ]
  },
  {
   "cell_type": "markdown",
   "metadata": {},
   "source": [
    "## 1.3 Very Basic Plotting\n",
    "\n",
    "Through the [matplotlib](https://matplotlib.org) Python package, it is possible to include basic (and also very fancy) plots in a Jupyter Notebook.\n",
    "\n",
    "To make sure this works, the package has to be installed. This can be done with the so-called *cell magic*\n",
    "```%pip install matplotlib```, which uses the Python package manager to install the package. (If the package is already installed, it does nothing, so it's safe to use it repeatedly.) \n",
    "\n",
    "Furthermore, matplotlib must be imported (`import matplotlib.pyplot as plt`) and instructed to output to Jupyter. The latter is done with the `%matplotlib inline` magic. Both of these must only be done once per notebook, preferably at the top.\n",
    "\n",
    "The below code illustrates all of this, and draws a nice plot. (Feel free to play around, and see also matplotlib's [tutorials](https://matplotlib.org/tutorials/index.html) and [examples](https://matplotlib.org/gallery/index.html))."
   ]
  },
  {
   "cell_type": "code",
   "execution_count": null,
   "metadata": {},
   "outputs": [],
   "source": [
    "import numpy as np\n",
    "import matplotlib.pyplot as plt\n",
    "\n",
    "np.random.seed(19680801)\n",
    "\n",
    "N = 50\n",
    "theta = np.linspace(0.0, 2 * np.pi, N, endpoint=False)\n",
    "radii = 10 * np.random.rand(N)\n",
    "width = np.pi / 4 * np.random.rand(N)\n",
    "colors = plt.cm.viridis(radii / 10.)\n",
    "\n",
    "ax = plt.subplot(111, projection='polar')\n",
    "ax.bar(theta, radii, width=width, bottom=0.0, color=colors, alpha=0.5)\n",
    "\n",
    "plt.show()"
   ]
  },
  {
   "cell_type": "markdown",
   "metadata": {},
   "source": [
    "The `numpy` package provides tools for working with arrays of numbers, such as e.g. matrices or vectors. It is crucially used for plotting to set up arrays of coordinates. (It is not too important to understand the details of NumPy for this homework, but if you are interested, see [here](https://docs.scipy.org/doc/numpy/user/quickstart.html)).\n",
    "\n",
    "Here's a simpler plot:"
   ]
  },
  {
   "cell_type": "code",
   "execution_count": null,
   "metadata": {},
   "outputs": [],
   "source": [
    "x = np.linspace( -np.pi, np.pi, 100 ) # create 100 points over interval (-pi,pi)\n",
    "f = np.cos(x)                             # compute function of all values in array\n",
    "plt.plot( x, f );                         # plot the result"
   ]
  },
  {
   "cell_type": "markdown",
   "metadata": {},
   "source": [
    "### Task\n",
    "\n",
    "Plot the function $x^3 - \\sqrt{|x|}$ over $[-1,1]$ by duplicating and modifying the above example."
   ]
  },
  {
   "cell_type": "code",
   "execution_count": null,
   "metadata": {},
   "outputs": [],
   "source": [
    "x = np.linspace(-1, 1, 100)# create 100 points over interval (-pi,pi)\n",
    "print(x)\n",
    "f = x**3 - np.sqrt(np.abs(x))                           # compute function of all values in array\n",
    "plt.plot( x, f ); "
   ]
  },
  {
   "cell_type": "markdown",
   "metadata": {},
   "source": [
    "- - -"
   ]
  },
  {
   "cell_type": "markdown",
   "metadata": {},
   "source": [
    "## 1.4 Properties of Floating-Point Numbers\n",
    "\n",
    "After you have gotten more comfortable with Notebooks, let us now work on the lecture material.\n",
    "\n",
    "Python's `math` module offers many interesting functions. Use the `frexp` function to print mantissa (including sign) and exponent of floating-point numbers."
   ]
  },
  {
   "cell_type": "code",
   "execution_count": null,
   "metadata": {},
   "outputs": [],
   "source": [
    "import math\n",
    "print( \"1 =\", math.frexp(1.0) )\n",
    "print( \"16 =\", math.frexp(16.0) )\n",
    "print( \"1/256 =\", math.frexp(1/256.0))"
   ]
  },
  {
   "cell_type": "markdown",
   "metadata": {},
   "source": [
    "### Task\n",
    "Write an inverse function that takes as arguments a mantissa (between 0 and 1) and exponent, and outputs the floating point number these represent."
   ]
  },
  {
   "cell_type": "code",
   "execution_count": null,
   "metadata": {},
   "outputs": [],
   "source": [
    "def make_float( mantissa, exponent ):\n",
    "    \n",
    "    x = mantissa*2**exponent\n",
    "    \n",
    "    return x "
   ]
  },
  {
   "cell_type": "markdown",
   "metadata": {},
   "source": []
  },
  {
   "cell_type": "code",
   "execution_count": null,
   "metadata": {},
   "outputs": [],
   "source": [
    "a = 0.7578125\n",
    "m, e = math.frexp( a )\n",
    "print( a, make_float( m, e ) )\n",
    "\n",
    "a = 1/3\n",
    "m, e = math.frexp( a )\n",
    "print( a, make_float( m, e ) )"
   ]
  },
  {
   "cell_type": "markdown",
   "metadata": {},
   "source": [
    "Beyond simply printing the number, Python can be instructed to use more or less precision when doing so. This is achieved using [string formatting](https://pyformat.info) like so:"
   ]
  },
  {
   "cell_type": "code",
   "execution_count": null,
   "metadata": {},
   "outputs": [],
   "source": [
    "print( \" {:f}\".format(0.1) )       # simply format number in default style\n",
    "print( \" {:.10f}\".format(0.1) )    # use 10 digits of precision\n",
    "print( \" {:.20f}\".format(0.1) )    # use 20 digits of precision\n",
    "print( \" {:.30e}\".format(0.1) )    # use decimal scientific notation with 30 digits of precision"
   ]
  },
  {
   "cell_type": "markdown",
   "metadata": {},
   "source": [
    "As is obvious, $0.1$ cannot be represented exactly as a floating-point number."
   ]
  },
  {
   "cell_type": "markdown",
   "metadata": {},
   "source": [
    "### Task\n",
    "To approximately determine the number of digits in the mantissa of a Python `float`, write a function that finds the largest number $n$ such that $1+2^{-n}$ is different from $1$, in floating-point arithmetic.\n",
    "\n",
    "Note: $2^{-n}$ is often called *machine epsilon*, because relative differences between numbers below this threshold are unreliable."
   ]
  },
  {
   "cell_type": "code",
   "execution_count": null,
   "metadata": {},
   "outputs": [],
   "source": [
    "def n_max():\n",
    "    \n",
    "    # TODO\n",
    "    \n",
    "    return 0 \n",
    "\n",
    "n = n_max()\n",
    "print(n, 2**(-n))"
   ]
  },
  {
   "cell_type": "markdown",
   "metadata": {},
   "source": [
    "The machine epsilon is also available directly as `sys.float_info.epsilon` from the `sys` module."
   ]
  },
  {
   "cell_type": "code",
   "execution_count": null,
   "metadata": {},
   "outputs": [],
   "source": [
    "import sys\n",
    "print( sys.float_info.epsilon )"
   ]
  },
  {
   "cell_type": "markdown",
   "metadata": {},
   "source": [
    "- - -"
   ]
  },
  {
   "cell_type": "markdown",
   "metadata": {},
   "source": [
    "## 1.5 Horner's Method"
   ]
  },
  {
   "cell_type": "markdown",
   "metadata": {},
   "source": [
    "The *Horner's Method* can be used to evaluate a polynomial in a numerically robust manner.\n",
    "\n",
    "Consider for example the polynomial\n",
    "\n",
    "$$\n",
    "x^9 - 18x^8 + 144x^7 - 672x^6 + 2016x^5 - 4032x^4 + 5376x^3 - 4608x^2 + 2304x - 512.\n",
    "$$\n",
    "\n",
    "Below is a naive algorithm that evaluates the polynomial directly as given, taking a list `coeff` of coefficients, such that $a_0 =$ `coeff[0]` etc., and $x$, as input parameters."
   ]
  },
  {
   "cell_type": "code",
   "execution_count": null,
   "metadata": {},
   "outputs": [],
   "source": [
    "def poly_simple( coeff, x ):\n",
    "    sum = 0.0\n",
    "    \n",
    "    for i, c in enumerate(coeff):\n",
    "        sum += c * x**i\n",
    "        print(i)\n",
    "        print(c)\n",
    "    return sum"
   ]
  },
  {
   "cell_type": "markdown",
   "metadata": {},
   "source": [
    "Let's plot the result of the evaluation in a narrow interval around $1$. Note that since NumPy directly applies numerical operations to all elements of an array, we can directly pass the entire array of evaluation points to our function without changes – neat!"
   ]
  },
  {
   "cell_type": "code",
   "execution_count": null,
   "metadata": {},
   "outputs": [],
   "source": [
    "import numpy as np\n",
    "a = [-512, 2304, -4608, 5376, -4032, 2016, -672, 144, -18, 1] # coefficients\n",
    "\n",
    "x = np.linspace( 1.9999, 2.0001, 1000 )\n",
    "p = poly_simple(a, x)\n",
    "\n",
    "plt.plot( x, p );"
   ]
  },
  {
   "cell_type": "markdown",
   "metadata": {},
   "source": [
    "As apparent, the evaluation is not very robust. Although we might expect 16 digits of precision, the computed values jiggle around in the last five digits.\n",
    "\n",
    "Horner's method uses a different approach to evaluation. The idea is to rewrite the polynomial as \n",
    "\n",
    "$$a_0 + x \\bigg(a_1 + x \\Big(a_2 + x \\big(a_3 + \\cdots + x(a_{n-1} + x \\, a_n) \\cdots \\big) \\Big) \\bigg)$$\n",
    "\n",
    "and evaluate the terms recursively. "
   ]
  },
  {
   "cell_type": "markdown",
   "metadata": {},
   "source": [
    "### Task\n",
    "Below, implement the function `poly_horner`, with the same inputs as `poly_simple`, that evaluates the polynomial using Horner's method, and investigate your implementation using the cells below."
   ]
  },
  {
   "cell_type": "code",
   "execution_count": null,
   "metadata": {},
   "outputs": [],
   "source": [
    "def poly_horner(coeff, x):\n",
    "    p = coeff[-1]               #letzter Wert von coeff\n",
    "    i = len(coeff) - 2          #vorletzter Wert von coeff (fängt bei 0 an zu zählen)\n",
    "    while i >= 0:\n",
    "        p = p * x + coeff[i]    #fängt bei 8 an (zählt runter)\n",
    "        i -= 1                  #zieht immer eins von i ab\n",
    "    return p"
   ]
  },
  {
   "cell_type": "markdown",
   "metadata": {},
   "source": [
    "Let's compare both approaches in a plot:"
   ]
  },
  {
   "cell_type": "code",
   "execution_count": null,
   "metadata": {},
   "outputs": [],
   "source": [
    "p_simple = poly_simple(a, x)\n",
    "p_horner = poly_horner(a, x)\n",
    "\n",
    "plt.plot( x, p_simple, x, p_horner );"
   ]
  },
  {
   "cell_type": "markdown",
   "metadata": {},
   "source": [
    "Horner's method behaves better than the naïve approach.\n",
    "\n",
    "Of course, staring at the polynomial hard enough, we notice that it is actually the expanded form of $(x-2)^9$. Evaluating this directly, we find the best approximation:"
   ]
  },
  {
   "cell_type": "code",
   "execution_count": null,
   "metadata": {},
   "outputs": [],
   "source": [
    "p_factored = (x-2)**9\n",
    "plt.plot( x, p_simple, x, p_horner, x, p_factored );"
   ]
  },
  {
   "cell_type": "markdown",
   "metadata": {},
   "source": [
    "- - -"
   ]
  },
  {
   "cell_type": "markdown",
   "metadata": {},
   "source": [
    "## 1.6 Submit your Homework"
   ]
  },
  {
   "cell_type": "markdown",
   "metadata": {},
   "source": [
    "### Task\n",
    "\n",
    "Submit your homework in OLAT. To do this, proceed as follows:\n",
    "\n",
    "- Make sure your notebook runs without errors:\n",
    "    - Clear the output of all cells and restart the kernel (click \"Kernel / Restart and Clear Output\" above).\n",
    "    - Run all cells (click \"Cell / Run All\" above).\n",
    "    - Repeat until all errors are resolved.\n",
    "    - Please make sure you are not using any extra packages beyond `math`, `sys`, `numpy`, `matplotlib`, and `sympy`.\n",
    "\n",
    "\n",
    "- Save the Notebook file\n",
    "    - Clear all outputs\n",
    "    - Download the notebook using \"File / Download as / Notebook (.ipynb)\").\n",
    "\n",
    "\n",
    "- Rename the file to `Homework 1 - Group XX.ipynb`, where `XX` is your group number\n",
    "    - Note that there should be only one submission per group.\n",
    "\n",
    "\n",
    "- Submit in OLAT\n",
    "\n",
    "\n",
    "- Be happy!\n",
    "\n",
    "The same procedure will be used for all future homeworks."
   ]
  },
  {
   "cell_type": "code",
   "execution_count": null,
   "metadata": {},
   "outputs": [],
   "source": []
  }
 ],
 "metadata": {
  "kernelspec": {
   "display_name": "Python 3 (ipykernel)",
   "language": "python",
   "name": "python3"
  },
  "language_info": {
   "codemirror_mode": {
    "name": "ipython",
    "version": 3
   },
   "file_extension": ".py",
   "mimetype": "text/x-python",
   "name": "python",
   "nbconvert_exporter": "python",
   "pygments_lexer": "ipython3",
   "version": "3.10.6"
  }
 },
 "nbformat": 4,
 "nbformat_minor": 2
}
