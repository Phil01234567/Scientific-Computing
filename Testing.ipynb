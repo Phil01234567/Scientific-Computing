{
 "cells": [
  {
   "cell_type": "code",
   "execution_count": null,
   "id": "699ea257",
   "metadata": {},
   "outputs": [],
   "source": [
    "import numpy as np              # basic arrays, vectors, matrices\n",
    "import numpy.linalg as la       # linear algebra functions\n",
    "import matplotlib.pyplot as plt # plotting\n",
    "from scipy.linalg import lu, lu_factor, lu_solve\n",
    "from numpy import array, zeros, fabs, linalg\n",
    "%matplotlib inline"
   ]
  },
  {
   "cell_type": "code",
   "execution_count": null,
   "id": "1817da13",
   "metadata": {
    "scrolled": true
   },
   "outputs": [],
   "source": [
    "Test = np.array([[1, 2, 3, 5, -2], [0, 6, -3, 1, -4], [2, -8, -8, 2, 5], [3, 5, -3, 7, -1], [7, 2, 3, 5, -2]])\n",
    "n = Test.shape[0]\n",
    "print (Test)\n",
    "\n",
    "y = np.array( [3., 5, 2, 3, 1] )\n",
    "\n",
    "TE = np.array([[2],\n",
    "              [3],\n",
    "              [0],\n",
    "              [9],\n",
    "              [-2]])\n",
    "print(TE)\n",
    "i = np.argmax(Test[:,0])    #Returns the indices of the maximum values along an axis.\n",
    "print(i)\n",
    "A_bar = np.vstack([Test[i,:], Test[:i,:], Test[(i+1):,:]])   #Stack arrays in sequence vertically (row wise).\n",
    "print(A_bar)\n",
    "\n",
    "A_bar11 = A_bar[0,0]    #Eintrag (0,0)\n",
    "#print(A_bar11)\n",
    "A_bar12 = A_bar[0,1:]   #Eintrag erste Reihe ohne (0,0)\n",
    "#print(A_bar12)\n",
    "A_bar21 = A_bar[1:,0]   #Eintrag erste Spalte ohne (0,0)\n",
    "#print(A_bar21)\n",
    "A_bar22 = A_bar[1:,1:]  #Eintrag übrige Matrix \n",
    "#print(A_bar22)\n",
    "\n",
    "S22 = A_bar22 - np.dot(A_bar21, A_bar12) / A_bar11   #Dot product of two arrays\n",
    "print(S22)\n",
    "\n",
    "L22 = S22\n",
    "\n",
    "U22 = S22\n",
    "P22 = S22\n",
    "    \n",
    "L11 = 1\n",
    "U11 = A_bar11\n",
    "#print(U11)\n",
    "L12 = np.zeros(n-1)\n",
    "U12 = A_bar12.copy()\n",
    "\n",
    "L21 = np.dot(P22, A_bar21) / A_bar11\n",
    "\n",
    "LX = L21.reshape(4,1)\n",
    "print(\"LX\")\n",
    "print(LX)\n",
    "\n",
    "print(\"L11:\")\n",
    "print(L11)\n",
    "print(\"L12:\")\n",
    "print(L21)\n",
    "print(\"L21:\")\n",
    "print(L21)\n",
    "print(\"L22:\")\n",
    "print(L22)\n",
    "\n",
    "\n",
    "U21 = np.zeros(n-1)\n",
    "\n",
    "L1 = np.block([L11, L12])\n",
    "print(\"L:\")\n",
    "print(L1)\n",
    "L2 = np.block([LX, L22])\n",
    "print(\"L2\")\n",
    "print(L2)\n",
    "\n",
    "#print(L2)\n",
    "L = np.block([[L1], [L2]])\n",
    "print(L)\n",
    "#Ä = np.block([L21, L22])"
   ]
  },
  {
   "cell_type": "code",
   "execution_count": null,
   "id": "7f9a0b55",
   "metadata": {},
   "outputs": [],
   "source": [
    "    P = np.block([\n",
    "        [np.zeros((1, i-1)), 1,                  np.zeros((1, n-i))],\n",
    "        [P22[:,:(i-1)],      np.zeros((n-1, 1)), P22[:,i:]]\n",
    "    ])"
   ]
  },
  {
   "cell_type": "code",
   "execution_count": null,
   "id": "0bbfa213",
   "metadata": {},
   "outputs": [],
   "source": [
    "n = 50\n",
    "x = np.linspace( -1, 1, n )\n",
    "A = np.vander( x, increasing=True )\n",
    "print(A)"
   ]
  },
  {
   "cell_type": "code",
   "execution_count": null,
   "id": "d354f19f",
   "metadata": {},
   "outputs": [],
   "source": [
    "def lup_decomp(A):\n",
    "    n = A.shape[0]\n",
    "    if n == 1:\n",
    "        L = np.array([[1]])\n",
    "        U = A.copy()\n",
    "#        P = np.array([[1]])\n",
    "        return (L, U)\n",
    "\n",
    "    i = np.argmax(A[:,0])\n",
    "    A_bar = np.vstack([A[i,:], A[:i,:], A[(i+1):,:]])\n",
    "\n",
    "    A_bar11 = A_bar[0,0]\n",
    "    A_bar12 = A_bar[0,1:]\n",
    "    A_bar21 = A_bar[1:,0]\n",
    "    A_bar22 = A_bar[1:,1:]\n",
    "\n",
    "    S22 = A_bar22 - np.dot(A_bar21, A_bar12) / A_bar11\n",
    "\n",
    "    L22 = S22\n",
    "    U22 = S22\n",
    "    P22 = S22\n",
    "\n",
    "    L11 = 1\n",
    "    U11 = A_bar11\n",
    "\n",
    "    L12 = np.zeros(n-1)\n",
    "    U12 = A_bar12.copy()\n",
    "\n",
    "    L21 = np.dot(P22, A_bar21) / A_bar11\n",
    "    U21 = np.zeros(n-1)\n",
    "\n",
    "    UX = U21.reshape(4,1)\n",
    "    LX = L21.reshape(4,1)\n",
    "    \n",
    "    L1 = np.block([L11, L12])\n",
    "    L2 = np.block([LX, L22])\n",
    "    U1 = np.block([U11, U12])\n",
    "    U2 = np.block([UX, U22])\n",
    "\n",
    "    L = np.block([[L1], [L2]])\n",
    "    U = np.block([[U1], [U2]])\n",
    "#    P = np.block([\n",
    "#        [np.zeros((1, i-1)), 1,                  np.zeros((1, n-i))],\n",
    "#        [P22[:,:(i-1)],      np.zeros((n-1, 1)), P22[:,i:]]\n",
    "#    ])\n",
    "    return (L, U)\n",
    "\n",
    "#print(A)\n",
    "#print(L)\n",
    "#print(U)\n",
    "#print(P)"
   ]
  },
  {
   "cell_type": "code",
   "execution_count": null,
   "id": "c96768e3",
   "metadata": {
    "scrolled": false
   },
   "outputs": [],
   "source": [
    "L, U = lup_decomp(Test)\n",
    "\n",
    "print(L)\n",
    "print(U)"
   ]
  },
  {
   "cell_type": "code",
   "execution_count": null,
   "id": "97e2201e",
   "metadata": {},
   "outputs": [],
   "source": [
    "def fwd_subs( L, b ):\n",
    "    \"\"\"Solve the linear system Ly = b with lower triangular matrix L by forward substitution.\"\"\"\n",
    "    \n",
    "    n = L.shape[0]\n",
    "    x = np.zeros(n)\n",
    "    for i in range(n):\n",
    "        Sum = b[i]\n",
    "        for j in range(i):\n",
    "            Sum -= L[i,j] * x[j]\n",
    "        x[i] = Sum / L[i,i]\n",
    "    return x"
   ]
  },
  {
   "cell_type": "code",
   "execution_count": null,
   "id": "46861914",
   "metadata": {
    "scrolled": true
   },
   "outputs": [],
   "source": [
    "x = fwd_subs(Test, y)\n",
    "print(x)"
   ]
  },
  {
   "cell_type": "code",
   "execution_count": null,
   "id": "754653a8",
   "metadata": {},
   "outputs": [],
   "source": [
    "def abc(a):\n",
    "    n = len(a)\n",
    "    for k in range(0, n-1):\n",
    "        for i in range(k+1,n):\n",
    "            if a[i,k] != 0.0:\n",
    "                lam = a [i,k]/a[k,k]\n",
    "                a[i, k+1:n] = a[i, k+1:n] - lam*a[k, k+1:n]\n",
    "                a[i,k] = lam\n",
    "    return a"
   ]
  },
  {
   "cell_type": "code",
   "execution_count": null,
   "id": "5b08bf1a",
   "metadata": {},
   "outputs": [],
   "source": [
    "A5 = np.array([[1.0, 4.0, 1.0], [1.0, 6.0, -1.0], [2.0, -1.0, 2.0]])\n",
    "\n",
    "BB = abc(A5)\n",
    "print(A5)\n",
    "print(BB)"
   ]
  },
  {
   "cell_type": "code",
   "execution_count": 213,
   "id": "e485d8c9",
   "metadata": {},
   "outputs": [],
   "source": [
    "AT = np.array([[2, 4, 5, 6], [-1, 2, 8.8, 1], [3, 8, 3, -3], [5, 2, 1.5, 6.4]])\n",
    "Test3 = np.array([[1., -3., 22.], [3., 5., -6.], [4., 235., 7.]])\n",
    "\n",
    "def LU(A, demoMode=False):\n",
    "    n=A.shape[0]\n",
    "    perm = array(range(n))\n",
    "    P = np.eye(n)\n",
    "    for k in range(n-1):\n",
    "        if demoMode: print(f\"{k=}\")\n",
    "\n",
    "        # Find the pivot element in column k:\n",
    "        pivot_row = k\n",
    "        abs_u_ik_max = abs(A[perm[k],k])\n",
    "        for row in range(k+1, n):\n",
    "            abs_u_ik = abs(A[perm[row],k])\n",
    "            if abs_u_ik > abs_u_ik_max:\n",
    "                pivot_row = row\n",
    "                abs_u_ik_max = abs_u_ik\n",
    "        if pivot_row > k: # \"swap\"\n",
    "            if demoMode: print(f\"Swap row {k} with row {pivot_row}\")\n",
    "            (perm[k], perm[pivot_row]) = (perm[pivot_row], perm[k])\n",
    "        else:\n",
    "            if demoMode: print(f\"No row sawp needed.\")\n",
    "        if demoMode: \n",
    "            print(f\"No row swap needed.\")\n",
    "            print(f\"permuted A is:\")\n",
    "            for row in range(n):\n",
    "                stack = np.vstack((perm[row]))\n",
    "                print(A[perm[row],:])\n",
    "                    \n",
    "    U=np.copy(A)\n",
    "    L=np.eye(n)\n",
    "    for i in range(n):\n",
    "        p=U[i,i]\n",
    "        for j in range(i+1,n):\n",
    "            L[j,i]=U[j,i]/p\n",
    "            U[j]=U[j]-L[j,i]*U[i]\n",
    "    return L, U, P, perm"
   ]
  },
  {
   "cell_type": "code",
   "execution_count": 214,
   "id": "703231c1",
   "metadata": {
    "scrolled": false
   },
   "outputs": [
    {
     "data": {
      "text/plain": [
       "(array([[ 1.        ,  0.        ,  0.        ],\n",
       "        [ 3.        ,  1.        ,  0.        ],\n",
       "        [ 4.        , 17.64285714,  1.        ]]),\n",
       " array([[ 1.00000000e+00, -3.00000000e+00,  2.20000000e+01],\n",
       "        [ 0.00000000e+00,  1.40000000e+01, -7.20000000e+01],\n",
       "        [ 0.00000000e+00,  0.00000000e+00,  1.18928571e+03]]),\n",
       " array([[1., 0., 0.],\n",
       "        [0., 1., 0.],\n",
       "        [0., 0., 1.]]),\n",
       " array([2, 1, 0]))"
      ]
     },
     "execution_count": 214,
     "metadata": {},
     "output_type": "execute_result"
    }
   ],
   "source": [
    "AT\n",
    "\n",
    "zz = LU(Test3)\n",
    "zz\n",
    "#perm gibt an, welche die Reihenfolge der Zeilen aus A\n",
    "#[2, 1, 0] -> Zeile 2 an oberstere Stelle, Zeile 0 an unterster"
   ]
  },
  {
   "cell_type": "code",
   "execution_count": 242,
   "id": "2977dc69",
   "metadata": {},
   "outputs": [
    {
     "data": {
      "text/plain": [
       "0"
      ]
     },
     "execution_count": 242,
     "metadata": {},
     "output_type": "execute_result"
    }
   ],
   "source": [
    "n = 3\n",
    "P = np.eye(n)\n",
    "\n",
    "perm = np.array([2, 1, 0])\n",
    "stelle_max = perm[max(perm)]\n",
    "stelle_mitte = perm[max(perm)-1]\n",
    "stelle_unten = perm[max(perm)-2]\n",
    "P2 = P[2]\n",
    "\n",
    "stelle_max"
   ]
  },
  {
   "cell_type": "code",
   "execution_count": 197,
   "id": "826962c4",
   "metadata": {},
   "outputs": [
    {
     "data": {
      "text/plain": [
       "array([[ 2. ,  4. ,  5. ,  6. ],\n",
       "       [-1. ,  2. ,  8.8,  1. ],\n",
       "       [ 3. ,  8. ,  3. , -3. ],\n",
       "       [ 5. ,  2. ,  1.5,  6.4]])"
      ]
     },
     "execution_count": 197,
     "metadata": {},
     "output_type": "execute_result"
    }
   ],
   "source": [
    "AT"
   ]
  },
  {
   "cell_type": "code",
   "execution_count": 209,
   "id": "440c7eaf",
   "metadata": {},
   "outputs": [
    {
     "data": {
      "text/plain": [
       "array([[  1.,  -3.,  22.],\n",
       "       [  3.,   5.,  -6.],\n",
       "       [  4., 235.,   7.]])"
      ]
     },
     "execution_count": 209,
     "metadata": {},
     "output_type": "execute_result"
    }
   ],
   "source": [
    "Test3"
   ]
  },
  {
   "cell_type": "code",
   "execution_count": null,
   "id": "add60f9d",
   "metadata": {},
   "outputs": [],
   "source": [
    "from numpy import array, zeros_like\n",
    "\n",
    "def plu(A, demoMode=False):\n",
    "    \"\"\"Compute the Doolittle PA=LU factorization of A —\n",
    "    but with the permutation recorded as permutation vector, not as the permutation matrix P.\n",
    "    Sums like $\\sum_{s=1}^{k-1} l_{k,s} u_{s,j}$ are done as matrix products;\n",
    "    in the above case, row matrix L[k, 1:k-1] by column matrix U[1:k-1,j] gives the sum for a give j,\n",
    "    and row matrix L[k, 1:k-1] by matrix U[1:k-1,k:n] gives the relevant row vector.\n",
    "    \n",
    "    NOT WORKING YET!\n",
    "    \"\"\"\n",
    "    n = len(A)  # len() gives the number of rows in a 2D array.\n",
    "    perm = array(range(n))\n",
    "    print(perm)\n",
    "    print(f\"Perm:{perm}\")\n",
    "    # Initialize U as the zero matrix;\n",
    "    # correct below the main diagonal, with the other entries to be computed below.\n",
    "    U = zeros_like(A)\n",
    "    # Also, initialize L as the zero matrix;\n",
    "    # the 1's will also be filled in as we go.\n",
    "    L = zeros_like(A)\n",
    "    for k in range(n-1):\n",
    "        if demoMode: print(f\"{k=}\")\n",
    "\n",
    "        # Find the pivot element in column k:\n",
    "        pivot_row = k\n",
    "        abs_u_ik_max = abs(A[perm[k],k])\n",
    "        for row in range(k+1, n):\n",
    "            abs_u_ik = abs(A[perm[row],k])\n",
    "            if abs_u_ik > abs_u_ik_max:\n",
    "                pivot_row = row\n",
    "                abs_u_ik_max = abs_u_ik\n",
    "        if pivot_row > k: # \"swap\"\n",
    "            if demoMode: print(f\"Swap row {k} with row {pivot_row}\")\n",
    "            (perm[k], perm[pivot_row]) = (perm[pivot_row], perm[k])\n",
    "        else:\n",
    "            if demoMode: print(f\"No row swap needed.\")\n",
    "        U[k,k:] = A[perm[k],k:] - L[perm[k],:k] @ U[:k,k:]\n",
    "\n",
    "        L[perm[k],k] = 1. \n",
    "        for row in range(k+1,n):\n",
    "            L[perm[row],k] = ( A[perm[row],k] - L[perm[row],:k] @ U[:k,k] ) / U[k,k]\n",
    "        if demoMode:\n",
    "            print(f\"permuted A is:\")\n",
    "            for row in range(n)\n",
    ":\n",
    "                print(A[perm[row],:])\n",
    "            print(f\"intermediate U is\\n{U}\")\n",
    "            print(f\"intermediate L is\\n{L}\")\n",
    "            print(f\"perm={perm}\")\n",
    "    # The last row (index \"-1\") is special: nothing to do for L except put in the 1 on the \"permuted main diagonal\"\n",
    "    U[n-1,n-1] = A[perm[n-1],n-1] - sum(L[perm[n-1],:n-1]*U[:n-1,n-1])\n",
    "    L[perm[n-1],n-1] = 1. \n",
    "    if demoMode:\n",
    "        print(f\"After the final step, k={n-1}\")\n",
    "        print(f\"U=\\n{U}\")\n",
    "    return (L, U, perm)"
   ]
  },
  {
   "cell_type": "code",
   "execution_count": 163,
   "id": "4498c6e6",
   "metadata": {},
   "outputs": [
    {
     "data": {
      "text/plain": [
       "array([[ 2. ,  4. ,  5. ,  6. ],\n",
       "       [-1. ,  2. ,  8.8,  1. ],\n",
       "       [ 3. ,  8. ,  3. , -3. ],\n",
       "       [ 5. ,  2. ,  1.5,  6.4]])"
      ]
     },
     "execution_count": 163,
     "metadata": {},
     "output_type": "execute_result"
    }
   ],
   "source": [
    "sdfa = np.array([[2, 4, 5, 6], [-1, 2, 8.8, 1], [3, 8, 3, -3], [5, 2, 1.5, 6.4]])\n",
    "sdfa"
   ]
  }
 ],
 "metadata": {
  "kernelspec": {
   "display_name": "Python 3 (ipykernel)",
   "language": "python",
   "name": "python3"
  },
  "language_info": {
   "codemirror_mode": {
    "name": "ipython",
    "version": 3
   },
   "file_extension": ".py",
   "mimetype": "text/x-python",
   "name": "python",
   "nbconvert_exporter": "python",
   "pygments_lexer": "ipython3",
   "version": "3.9.7"
  }
 },
 "nbformat": 4,
 "nbformat_minor": 5
}
